{
  "cells": [
    {
      "cell_type": "markdown",
      "metadata": {
        "id": "XyDe6tGPa8KC"
      },
      "source": [
        "# Install and Import Libraries"
      ]
    },
    {
      "cell_type": "code",
      "execution_count": null,
      "metadata": {
        "id": "VDBeQqVE_acD"
      },
      "outputs": [],
      "source": [
        "!pip install peft sentence-transformers tqdm redis"
      ]
    },
    {
      "cell_type": "code",
      "execution_count": null,
      "metadata": {
        "id": "MLx0kyLU_iuN"
      },
      "outputs": [],
      "source": [
        "from ast import literal_eval\n",
        "from peft import PeftModel\n",
        "from redis.commands.search.field import TextField, VectorField\n",
        "from redis.commands.search.index_definition import IndexDefinition, IndexType\n",
        "from redis.commands.search.query import Query\n",
        "from sentence_transformers import SentenceTransformer\n",
        "from tqdm import tqdm\n",
        "import pandas as pd\n",
        "import numpy as np\n",
        "import redis"
      ]
    },
    {
      "cell_type": "markdown",
      "metadata": {
        "id": "uXMzSYQPbD28"
      },
      "source": [
        "# Create Global Variables"
      ]
    },
    {
      "cell_type": "code",
      "execution_count": null,
      "metadata": {
        "id": "uQ9zT-eDbhuM"
      },
      "outputs": [],
      "source": [
        "HF_MODEL_ID = \"carlosalvarezg/all-mpnet-base-v2\"\n",
        "BASE_MODEL_ID = \"all-mpnet-base-v2\"\n",
        "REDIS_HOST = \"redis-host\"\n",
        "REDIS_PORT = 12345\n",
        "REDIS_USERNAME = \"redis-username\"\n",
        "REDIS_PASSWORD = \"redis-password\""
      ]
    },
    {
      "cell_type": "markdown",
      "metadata": {
        "id": "zemjybzhbIDH"
      },
      "source": [
        "Read and cleans dataframe"
      ]
    },
    {
      "cell_type": "code",
      "execution_count": null,
      "metadata": {
        "id": "q7nCuWxq_uyj"
      },
      "outputs": [],
      "source": [
        "DATAFRAME = pd.read_csv(\"recipes_data.csv.zip\", compression='zip')\n",
        "\n",
        "# Drops unnecessary columns\n",
        "DATAFRAME.drop(columns=[\"site\", \"source\", \"NER\", \"directions\"], inplace=True)\n",
        "\n",
        "# Removes NaN values and resets index\n",
        "DATAFRAME.dropna(inplace=True)\n",
        "\n",
        "# Sorts dataframe by link\n",
        "DATAFRAME.sort_values(by=\"link\", inplace=True)\n",
        "\n",
        "# Resets index\n",
        "DATAFRAME.reset_index(drop=True, inplace=True)\n",
        "\n",
        "# Removes commas and brackets from ingredients\n",
        "DATAFRAME[\"ingredients\"] = DATAFRAME[\"ingredients\"].apply(lambda x : literal_eval(x))"
      ]
    },
    {
      "cell_type": "markdown",
      "metadata": {
        "id": "MsBFfVgOb_Wp"
      },
      "source": [
        "Creates list of strings containing titles and ingredients for each recipe"
      ]
    },
    {
      "cell_type": "code",
      "execution_count": null,
      "metadata": {
        "id": "43wA0E0Y1_73"
      },
      "outputs": [],
      "source": [
        "TITLES_AND_INGREDIENTS = (DATAFRAME[\"title\"] + \" \" + DATAFRAME[\"ingredients\"].apply(lambda x : \" \".join(x))).to_list()"
      ]
    },
    {
      "cell_type": "markdown",
      "metadata": {
        "id": "vYMipsnwcNjz"
      },
      "source": [
        "Creates list of keys for dataframe"
      ]
    },
    {
      "cell_type": "code",
      "execution_count": null,
      "metadata": {
        "id": "zBGXBmBPcMA9"
      },
      "outputs": [],
      "source": [
        "KEYS = [f\"{index:07}\" for index in list(DATAFRAME.index)]"
      ]
    },
    {
      "cell_type": "markdown",
      "metadata": {
        "id": "c5q_iMQkbe35"
      },
      "source": [
        "Loads model"
      ]
    },
    {
      "cell_type": "code",
      "execution_count": null,
      "metadata": {
        "id": "J9k5NGnY_zXe"
      },
      "outputs": [],
      "source": [
        "EMBEDDINGS_MODEL = PeftModel.from_pretrained(SentenceTransformer(BASE_MODEL_NAME, device=\"cuda\"), HF_MODEL_ID)\n",
        "EMBEDDINGS_MODEL.eval()"
      ]
    },
    {
      "cell_type": "markdown",
      "metadata": {
        "id": "FAlWsj9Lb9SD"
      },
      "source": [
        "Creates Redis client"
      ]
    },
    {
      "cell_type": "code",
      "execution_count": null,
      "metadata": {
        "id": "Dqs2cH7x_7TZ"
      },
      "outputs": [],
      "source": [
        "redisClient = redis.Redis(\n",
        "    host=REDIS_HOST,\n",
        "    port=REDIS_PORT,\n",
        "    decode_responses=True,\n",
        "    username=REDIS_USERNAME,\n",
        "    password=REDIS_PASSWORD,\n",
        ")"
      ]
    },
    {
      "cell_type": "markdown",
      "metadata": {
        "id": "Oi6k1TtMc2Ee"
      },
      "source": [
        "# Upload Recipe Data"
      ]
    },
    {
      "cell_type": "markdown",
      "metadata": {
        "id": "AQ9mIOYuACfc"
      },
      "source": [
        "Adds title, and link to database\n"
      ]
    },
    {
      "cell_type": "code",
      "execution_count": null,
      "metadata": {
        "id": "ips0-g3DABnU"
      },
      "outputs": [],
      "source": [
        "pipeline = redisClient.pipeline()\n",
        "batch_size = 10_000\n",
        "for index, row in tqdm(DATAFRAME.iterrows(), total=len(DATAFRAME)):\n",
        "  redis_key = f\"{index:07}\"\n",
        "  pipeline.json().set(redis_key, \"$\", dict(row[[\"title\", \"link\"]]))\n",
        "  if index % batch_size == 0 and index != 0:\n",
        "    res = pipeline.execute()\n",
        "    pipeline = redisClient.pipeline()\n",
        "res = pipeline.execute()"
      ]
    },
    {
      "cell_type": "markdown",
      "metadata": {
        "id": "eYAwTMzDcTpB"
      },
      "source": [
        "Adds vector embeddings to database"
      ]
    },
    {
      "cell_type": "code",
      "execution_count": null,
      "metadata": {
        "id": "YQz7hH3IAGXD"
      },
      "outputs": [],
      "source": [
        "batch_size = 512\n",
        "total = len(TITLES_AND_INGREDIENTS)\n",
        "for index in tqdm(range(0, total, batch_size)):\n",
        "  cur_keys = KEYS[index:min(index+batch_size, total)]\n",
        "  embeddings = EMBEDDINGS_MODEL.encode(TITLES_AND_INGREDIENTS[index:min(index+batch_size, total)]).astype(np.float16).tolist()\n",
        "  pipeline = redisClient.pipeline()\n",
        "  for key, embedding in zip(cur_keys, embeddings):\n",
        "    pipeline.json().set(key, \"$.embedding\", embedding)\n",
        "  res = pipeline.execute()\n",
        "res = pipeline.execute()"
      ]
    },
    {
      "cell_type": "markdown",
      "metadata": {
        "id": "4LQZvKOqc-fe"
      },
      "source": [
        "Checks recipe in database"
      ]
    },
    {
      "cell_type": "code",
      "execution_count": null,
      "metadata": {
        "id": "9AbjG4VcAJdV"
      },
      "outputs": [],
      "source": [
        "redisClient.json().get(KEYS[0], \"$\")"
      ]
    },
    {
      "cell_type": "markdown",
      "metadata": {
        "id": "1OXkjomedDF1"
      },
      "source": [
        "# Creates vector index using embedding field"
      ]
    },
    {
      "cell_type": "code",
      "execution_count": null,
      "metadata": {
        "id": "qMW3PXrbALRf"
      },
      "outputs": [],
      "source": [
        "schema = (\n",
        "    TextField(\"$.title\", no_stem=True, as_name=\"title\"),\n",
        "    TextField(\"$.link\", no_stem=True, as_name=\"link\"),\n",
        "    VectorField(\n",
        "        \"$.embedding\",\n",
        "        \"FLAT\",\n",
        "        {\n",
        "            \"TYPE\": \"FLOAT16\",\n",
        "            \"DIM\": 768,\n",
        "            \"DISTANCE_METRIC\": \"COSINE\",\n",
        "        },\n",
        "        as_name=\"vector\",\n",
        "    ),\n",
        ")\n",
        "definition = IndexDefinition(prefix=[\"\"], index_type=IndexType.JSON)"
      ]
    },
    {
      "cell_type": "code",
      "execution_count": null,
      "metadata": {
        "id": "-NM9EhGNANGt"
      },
      "outputs": [],
      "source": [
        "response = redisClient.ft(\"idx:recipes\").create_index(fields=schema, definition=definition)"
      ]
    },
    {
      "cell_type": "markdown",
      "metadata": {
        "id": "s0IS-QhkdII_"
      },
      "source": [
        "Checks schema form database"
      ]
    },
    {
      "cell_type": "code",
      "execution_count": null,
      "metadata": {
        "id": "WkIg2M6QAOs7"
      },
      "outputs": [],
      "source": [
        "info = redisClient.ft(\"idx:recipes\").info()\n",
        "num_docs = info[\"num_docs\"]\n",
        "indexing_failures = info[\"hash_indexing_failures\"]\n",
        "print(f\"Number of documents: {num_docs}\")\n",
        "print(f\"Number of indexing failures: {indexing_failures}\")"
      ]
    },
    {
      "cell_type": "markdown",
      "metadata": {
        "id": "sXvn-tBqdSul"
      },
      "source": [
        "Tests schema with example query"
      ]
    },
    {
      "cell_type": "code",
      "execution_count": null,
      "metadata": {
        "id": "0cAQc58pAQmb"
      },
      "outputs": [],
      "source": [
        "encoded_query = EMBEDDING_MODEL.encod([\"chocolate cake\", \"spaghetti carbonara\", \"chicken curry\"]).to_list()[0]\n",
        "query = (\n",
        "    Query('(*)=>[KNN 3 @vector $query_vector AS vector_score]')\n",
        "     .sort_by('vector_score')\n",
        "     .return_fields('vector_score', 'id', 'title', 'link')\n",
        "     .dialect(2)\n",
        ")\n",
        "response = redisClient.ft('idx:recipes').search(\n",
        "    query,\n",
        "    {\n",
        "      'query_vector': np.array(encoded_query, dtype=np.float32).tobytes()\n",
        "    }\n",
        ").docs\n",
        "print(response)"
      ]
    }
  ],
  "metadata": {
    "accelerator": "GPU",
    "colab": {
      "gpuType": "T4",
      "provenance": [],
      "toc_visible": true
    },
    "kernelspec": {
      "display_name": "Python 3",
      "name": "python3"
    },
    "language_info": {
      "name": "python"
    }
  },
  "nbformat": 4,
  "nbformat_minor": 0
}
